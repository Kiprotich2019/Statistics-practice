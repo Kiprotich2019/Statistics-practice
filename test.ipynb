{
 "cells": [
  {
   "cell_type": "code",
   "execution_count": 1,
   "metadata": {},
   "outputs": [
    {
     "name": "stdout",
     "output_type": "stream",
     "text": [
      "[14, 11, 18, 19, 20, 13, 19, 17, 11, 18]\n"
     ]
    }
   ],
   "source": [
    "import random\n",
    "data=[]\n",
    "for _ in range(10):\n",
    "    random_number=random.randint(10,20)\n",
    "    data.append(random_number)\n",
    "    \n",
    "print(data)"
   ]
  },
  {
   "cell_type": "code",
   "execution_count": 2,
   "metadata": {},
   "outputs": [
    {
     "name": "stderr",
     "output_type": "stream",
     "text": [
      "C:\\Users\\Aron\\AppData\\Local\\Temp\\ipykernel_12908\\4272357637.py:1: DeprecationWarning: \n",
      "Pyarrow will become a required dependency of pandas in the next major release of pandas (pandas 3.0),\n",
      "(to allow more performant data types, such as the Arrow string type, and better interoperability with other libraries)\n",
      "but was not found to be installed on your system.\n",
      "If this would cause problems for you,\n",
      "please provide us feedback at https://github.com/pandas-dev/pandas/issues/54466\n",
      "        \n",
      "  import pandas as pd\n"
     ]
    }
   ],
   "source": [
    "import pandas as pd\n",
    "import warnings\n",
    "warnings.filterwarnings(\"ignore\")"
   ]
  },
  {
   "cell_type": "code",
   "execution_count": 3,
   "metadata": {},
   "outputs": [
    {
     "data": {
      "text/html": [
       "<div>\n",
       "<style scoped>\n",
       "    .dataframe tbody tr th:only-of-type {\n",
       "        vertical-align: middle;\n",
       "    }\n",
       "\n",
       "    .dataframe tbody tr th {\n",
       "        vertical-align: top;\n",
       "    }\n",
       "\n",
       "    .dataframe thead th {\n",
       "        text-align: right;\n",
       "    }\n",
       "</style>\n",
       "<table border=\"1\" class=\"dataframe\">\n",
       "  <thead>\n",
       "    <tr style=\"text-align: right;\">\n",
       "      <th></th>\n",
       "      <th>sepal_length</th>\n",
       "      <th>sepal_width</th>\n",
       "      <th>petal_length</th>\n",
       "      <th>petal_width</th>\n",
       "      <th>species</th>\n",
       "    </tr>\n",
       "  </thead>\n",
       "  <tbody>\n",
       "    <tr>\n",
       "      <th>0</th>\n",
       "      <td>5.1</td>\n",
       "      <td>3.5</td>\n",
       "      <td>1.4</td>\n",
       "      <td>0.2</td>\n",
       "      <td>setosa</td>\n",
       "    </tr>\n",
       "    <tr>\n",
       "      <th>1</th>\n",
       "      <td>4.9</td>\n",
       "      <td>3.0</td>\n",
       "      <td>1.4</td>\n",
       "      <td>0.2</td>\n",
       "      <td>setosa</td>\n",
       "    </tr>\n",
       "    <tr>\n",
       "      <th>2</th>\n",
       "      <td>4.7</td>\n",
       "      <td>3.2</td>\n",
       "      <td>1.3</td>\n",
       "      <td>0.2</td>\n",
       "      <td>setosa</td>\n",
       "    </tr>\n",
       "    <tr>\n",
       "      <th>3</th>\n",
       "      <td>4.6</td>\n",
       "      <td>3.1</td>\n",
       "      <td>1.5</td>\n",
       "      <td>0.2</td>\n",
       "      <td>setosa</td>\n",
       "    </tr>\n",
       "    <tr>\n",
       "      <th>4</th>\n",
       "      <td>5.0</td>\n",
       "      <td>3.6</td>\n",
       "      <td>1.4</td>\n",
       "      <td>0.2</td>\n",
       "      <td>setosa</td>\n",
       "    </tr>\n",
       "  </tbody>\n",
       "</table>\n",
       "</div>"
      ],
      "text/plain": [
       "   sepal_length  sepal_width  petal_length  petal_width species\n",
       "0           5.1          3.5           1.4          0.2  setosa\n",
       "1           4.9          3.0           1.4          0.2  setosa\n",
       "2           4.7          3.2           1.3          0.2  setosa\n",
       "3           4.6          3.1           1.5          0.2  setosa\n",
       "4           5.0          3.6           1.4          0.2  setosa"
      ]
     },
     "execution_count": 3,
     "metadata": {},
     "output_type": "execute_result"
    }
   ],
   "source": [
    "data2=pd.read_csv(r\"C:\\Users\\Aron\\Downloads\\fsdmstats\\iris.csv\")\n",
    "data2.head()"
   ]
  },
  {
   "cell_type": "code",
   "execution_count": 4,
   "metadata": {},
   "outputs": [],
   "source": [
    "data3=pd.read_csv(r\"C:\\Users\\Aron\\Downloads\\fsdmstats\\titanic_train.csv\")"
   ]
  },
  {
   "cell_type": "code",
   "execution_count": 5,
   "metadata": {},
   "outputs": [
    {
     "data": {
      "text/html": [
       "<div>\n",
       "<style scoped>\n",
       "    .dataframe tbody tr th:only-of-type {\n",
       "        vertical-align: middle;\n",
       "    }\n",
       "\n",
       "    .dataframe tbody tr th {\n",
       "        vertical-align: top;\n",
       "    }\n",
       "\n",
       "    .dataframe thead th {\n",
       "        text-align: right;\n",
       "    }\n",
       "</style>\n",
       "<table border=\"1\" class=\"dataframe\">\n",
       "  <thead>\n",
       "    <tr style=\"text-align: right;\">\n",
       "      <th></th>\n",
       "      <th>PassengerId</th>\n",
       "      <th>Survived</th>\n",
       "      <th>Pclass</th>\n",
       "      <th>Name</th>\n",
       "      <th>Sex</th>\n",
       "      <th>Age</th>\n",
       "      <th>SibSp</th>\n",
       "      <th>Parch</th>\n",
       "      <th>Ticket</th>\n",
       "      <th>Fare</th>\n",
       "      <th>Cabin</th>\n",
       "      <th>Embarked</th>\n",
       "    </tr>\n",
       "  </thead>\n",
       "  <tbody>\n",
       "    <tr>\n",
       "      <th>0</th>\n",
       "      <td>1</td>\n",
       "      <td>0</td>\n",
       "      <td>3</td>\n",
       "      <td>Braund, Mr. Owen Harris</td>\n",
       "      <td>male</td>\n",
       "      <td>22.0</td>\n",
       "      <td>1</td>\n",
       "      <td>0</td>\n",
       "      <td>A/5 21171</td>\n",
       "      <td>7.2500</td>\n",
       "      <td>NaN</td>\n",
       "      <td>S</td>\n",
       "    </tr>\n",
       "    <tr>\n",
       "      <th>1</th>\n",
       "      <td>2</td>\n",
       "      <td>1</td>\n",
       "      <td>1</td>\n",
       "      <td>Cumings, Mrs. John Bradley (Florence Briggs Th...</td>\n",
       "      <td>female</td>\n",
       "      <td>38.0</td>\n",
       "      <td>1</td>\n",
       "      <td>0</td>\n",
       "      <td>PC 17599</td>\n",
       "      <td>71.2833</td>\n",
       "      <td>C85</td>\n",
       "      <td>C</td>\n",
       "    </tr>\n",
       "    <tr>\n",
       "      <th>2</th>\n",
       "      <td>3</td>\n",
       "      <td>1</td>\n",
       "      <td>3</td>\n",
       "      <td>Heikkinen, Miss. Laina</td>\n",
       "      <td>female</td>\n",
       "      <td>26.0</td>\n",
       "      <td>0</td>\n",
       "      <td>0</td>\n",
       "      <td>STON/O2. 3101282</td>\n",
       "      <td>7.9250</td>\n",
       "      <td>NaN</td>\n",
       "      <td>S</td>\n",
       "    </tr>\n",
       "    <tr>\n",
       "      <th>3</th>\n",
       "      <td>4</td>\n",
       "      <td>1</td>\n",
       "      <td>1</td>\n",
       "      <td>Futrelle, Mrs. Jacques Heath (Lily May Peel)</td>\n",
       "      <td>female</td>\n",
       "      <td>35.0</td>\n",
       "      <td>1</td>\n",
       "      <td>0</td>\n",
       "      <td>113803</td>\n",
       "      <td>53.1000</td>\n",
       "      <td>C123</td>\n",
       "      <td>S</td>\n",
       "    </tr>\n",
       "    <tr>\n",
       "      <th>4</th>\n",
       "      <td>5</td>\n",
       "      <td>0</td>\n",
       "      <td>3</td>\n",
       "      <td>Allen, Mr. William Henry</td>\n",
       "      <td>male</td>\n",
       "      <td>35.0</td>\n",
       "      <td>0</td>\n",
       "      <td>0</td>\n",
       "      <td>373450</td>\n",
       "      <td>8.0500</td>\n",
       "      <td>NaN</td>\n",
       "      <td>S</td>\n",
       "    </tr>\n",
       "  </tbody>\n",
       "</table>\n",
       "</div>"
      ],
      "text/plain": [
       "   PassengerId  Survived  Pclass  \\\n",
       "0            1         0       3   \n",
       "1            2         1       1   \n",
       "2            3         1       3   \n",
       "3            4         1       1   \n",
       "4            5         0       3   \n",
       "\n",
       "                                                Name     Sex   Age  SibSp  \\\n",
       "0                            Braund, Mr. Owen Harris    male  22.0      1   \n",
       "1  Cumings, Mrs. John Bradley (Florence Briggs Th...  female  38.0      1   \n",
       "2                             Heikkinen, Miss. Laina  female  26.0      0   \n",
       "3       Futrelle, Mrs. Jacques Heath (Lily May Peel)  female  35.0      1   \n",
       "4                           Allen, Mr. William Henry    male  35.0      0   \n",
       "\n",
       "   Parch            Ticket     Fare Cabin Embarked  \n",
       "0      0         A/5 21171   7.2500   NaN        S  \n",
       "1      0          PC 17599  71.2833   C85        C  \n",
       "2      0  STON/O2. 3101282   7.9250   NaN        S  \n",
       "3      0            113803  53.1000  C123        S  \n",
       "4      0            373450   8.0500   NaN        S  "
      ]
     },
     "execution_count": 5,
     "metadata": {},
     "output_type": "execute_result"
    }
   ],
   "source": [
    "data3.head()"
   ]
  },
  {
   "cell_type": "code",
   "execution_count": 6,
   "metadata": {},
   "outputs": [
    {
     "data": {
      "text/plain": [
       "[14, 11, 18, 19, 20, 13, 19, 17, 11, 18]"
      ]
     },
     "execution_count": 6,
     "metadata": {},
     "output_type": "execute_result"
    }
   ],
   "source": [
    "## Central tendencies\n",
    "data_copy=data.copy()\n",
    "data_copy"
   ]
  },
  {
   "cell_type": "code",
   "execution_count": 7,
   "metadata": {},
   "outputs": [
    {
     "data": {
      "text/plain": [
       "16.0"
      ]
     },
     "execution_count": 7,
     "metadata": {},
     "output_type": "execute_result"
    }
   ],
   "source": [
    "import numpy as np\n",
    "np.mean(data_copy)"
   ]
  },
  {
   "cell_type": "code",
   "execution_count": 8,
   "metadata": {},
   "outputs": [
    {
     "data": {
      "text/plain": [
       "17.5"
      ]
     },
     "execution_count": 8,
     "metadata": {},
     "output_type": "execute_result"
    }
   ],
   "source": [
    "np.median(data_copy)"
   ]
  },
  {
   "cell_type": "code",
   "execution_count": 9,
   "metadata": {},
   "outputs": [
    {
     "data": {
      "text/plain": [
       "5.843333333333334"
      ]
     },
     "execution_count": 9,
     "metadata": {},
     "output_type": "execute_result"
    }
   ],
   "source": [
    "np.mean(data2['sepal_length'])"
   ]
  },
  {
   "cell_type": "code",
   "execution_count": 10,
   "metadata": {},
   "outputs": [
    {
     "data": {
      "text/plain": [
       "5.843333333333334"
      ]
     },
     "execution_count": 10,
     "metadata": {},
     "output_type": "execute_result"
    }
   ],
   "source": [
    "data2['sepal_length'].mean()"
   ]
  },
  {
   "cell_type": "code",
   "execution_count": 11,
   "metadata": {},
   "outputs": [
    {
     "data": {
      "text/plain": [
       "Index(['PassengerId', 'Survived', 'Pclass', 'Name', 'Sex', 'Age', 'SibSp',\n",
       "       'Parch', 'Ticket', 'Fare', 'Cabin', 'Embarked'],\n",
       "      dtype='object')"
      ]
     },
     "execution_count": 11,
     "metadata": {},
     "output_type": "execute_result"
    }
   ],
   "source": [
    "data3.columns"
   ]
  },
  {
   "cell_type": "code",
   "execution_count": 12,
   "metadata": {},
   "outputs": [
    {
     "data": {
      "text/plain": [
       "14.4542"
      ]
     },
     "execution_count": 12,
     "metadata": {},
     "output_type": "execute_result"
    }
   ],
   "source": [
    "np.median(data3['Fare'])"
   ]
  },
  {
   "cell_type": "code",
   "execution_count": 13,
   "metadata": {},
   "outputs": [
    {
     "data": {
      "text/plain": [
       "[14, 11, 18, 19, 20, 13, 19, 17, 11, 18]"
      ]
     },
     "execution_count": 13,
     "metadata": {},
     "output_type": "execute_result"
    }
   ],
   "source": [
    "data_copy"
   ]
  },
  {
   "cell_type": "code",
   "execution_count": 14,
   "metadata": {},
   "outputs": [],
   "source": [
    "data_copy2=data.copy()\n",
    "data_copy2.append(16)"
   ]
  },
  {
   "cell_type": "code",
   "execution_count": 15,
   "metadata": {},
   "outputs": [
    {
     "data": {
      "text/plain": [
       "[14, 11, 18, 19, 20, 13, 19, 17, 11, 18, 16]"
      ]
     },
     "execution_count": 15,
     "metadata": {},
     "output_type": "execute_result"
    }
   ],
   "source": [
    "data_copy2"
   ]
  },
  {
   "cell_type": "code",
   "execution_count": 16,
   "metadata": {},
   "outputs": [],
   "source": [
    "import statistics"
   ]
  },
  {
   "cell_type": "code",
   "execution_count": 17,
   "metadata": {},
   "outputs": [
    {
     "data": {
      "text/plain": [
       "11"
      ]
     },
     "execution_count": 17,
     "metadata": {},
     "output_type": "execute_result"
    }
   ],
   "source": [
    "statistics.mode(data_copy2)"
   ]
  },
  {
   "cell_type": "code",
   "execution_count": 18,
   "metadata": {},
   "outputs": [],
   "source": [
    "from scipy import stats as st"
   ]
  },
  {
   "cell_type": "code",
   "execution_count": 19,
   "metadata": {},
   "outputs": [
    {
     "data": {
      "text/plain": [
       "ModeResult(mode=11, count=2)"
      ]
     },
     "execution_count": 19,
     "metadata": {},
     "output_type": "execute_result"
    }
   ],
   "source": [
    "st.mode(data_copy2)"
   ]
  },
  {
   "cell_type": "code",
   "execution_count": 20,
   "metadata": {},
   "outputs": [
    {
     "data": {
      "text/plain": [
       "[14, 11, 18, 19, 20, 13, 19, 17, 11, 18]"
      ]
     },
     "execution_count": 20,
     "metadata": {},
     "output_type": "execute_result"
    }
   ],
   "source": [
    "data_copy"
   ]
  },
  {
   "cell_type": "code",
   "execution_count": 21,
   "metadata": {},
   "outputs": [
    {
     "name": "stdout",
     "output_type": "stream",
     "text": [
      "16.0\n"
     ]
    }
   ],
   "source": [
    "def cal_mean(data):\n",
    "    sum=0\n",
    "    for i in data:\n",
    "        sum+=i\n",
    "    mean=sum/len(data)\n",
    "    return mean\n",
    "\n",
    "print(cal_mean(data_copy))"
   ]
  },
  {
   "cell_type": "code",
   "execution_count": 22,
   "metadata": {},
   "outputs": [
    {
     "data": {
      "text/plain": [
       "[14, 11, 18, 19, 20, 13, 19, 17, 11, 18]"
      ]
     },
     "execution_count": 22,
     "metadata": {},
     "output_type": "execute_result"
    }
   ],
   "source": [
    "data_copy"
   ]
  },
  {
   "cell_type": "code",
   "execution_count": 23,
   "metadata": {},
   "outputs": [],
   "source": [
    "data_copy.append(200)"
   ]
  },
  {
   "cell_type": "code",
   "execution_count": 24,
   "metadata": {},
   "outputs": [
    {
     "data": {
      "text/plain": [
       "32.72727272727273"
      ]
     },
     "execution_count": 24,
     "metadata": {},
     "output_type": "execute_result"
    }
   ],
   "source": [
    "data_copy\n",
    "np.mean(data_copy)"
   ]
  },
  {
   "cell_type": "code",
   "execution_count": 25,
   "metadata": {},
   "outputs": [
    {
     "data": {
      "text/plain": [
       "18.0"
      ]
     },
     "execution_count": 25,
     "metadata": {},
     "output_type": "execute_result"
    }
   ],
   "source": [
    "np.median(data_copy)"
   ]
  },
  {
   "cell_type": "code",
   "execution_count": 26,
   "metadata": {},
   "outputs": [],
   "source": [
    "import seaborn as sns\n",
    "import matplotlib.pyplot as plt\n",
    "#sns.set()"
   ]
  },
  {
   "cell_type": "code",
   "execution_count": 27,
   "metadata": {},
   "outputs": [],
   "source": [
    "#plt.hist(data,bins=5)"
   ]
  },
  {
   "cell_type": "code",
   "execution_count": 28,
   "metadata": {},
   "outputs": [
    {
     "data": {
      "text/plain": [
       "<Axes: ylabel='Count'>"
      ]
     },
     "execution_count": 28,
     "metadata": {},
     "output_type": "execute_result"
    },
    {
     "data": {
      "image/png": "[encoded data removed]",
      "text/plain": [
       "<Figure size 640x480 with 1 Axes>"
      ]
     },
     "metadata": {},
     "output_type": "display_data"
    }
   ],
   "source": [
    "sns.histplot(data,kde=True)\n",
    "#plt.Figure(figsize=(8,6))"
   ]
  },
  {
   "cell_type": "code",
   "execution_count": 29,
   "metadata": {},
   "outputs": [
    {
     "data": {
      "text/plain": [
       "<Axes: ylabel='Count'>"
      ]
     },
     "execution_count": 29,
     "metadata": {},
     "output_type": "execute_result"
    },
    {
     "data": {
      "image/png": "[encoded data removed]",
      "text/plain": [
       "<Figure size 640x480 with 1 Axes>"
      ]
     },
     "metadata": {},
     "output_type": "display_data"
    }
   ],
   "source": [
    "sns.histplot(data_copy,kde=True)"
   ]
  },
  {
   "cell_type": "code",
   "execution_count": 30,
   "metadata": {},
   "outputs": [
    {
     "data": {
      "text/plain": [
       "[14, 11, 18, 19, 20, 13, 19, 17, 11, 18]"
      ]
     },
     "execution_count": 30,
     "metadata": {},
     "output_type": "execute_result"
    }
   ],
   "source": [
    "data_copy.pop(-1)\n",
    "data_copy"
   ]
  },
  {
   "cell_type": "code",
   "execution_count": 31,
   "metadata": {},
   "outputs": [
    {
     "data": {
      "text/plain": [
       "[11, 11, 13, 14, 17, 18, 18, 19, 19, 20]"
      ]
     },
     "execution_count": 31,
     "metadata": {},
     "output_type": "execute_result"
    }
   ],
   "source": [
    "data_copy.sort()\n",
    "data_copy"
   ]
  },
  {
   "cell_type": "markdown",
   "metadata": {},
   "source": [
    "Percentiles"
   ]
  },
  {
   "cell_type": "code",
   "execution_count": 32,
   "metadata": {},
   "outputs": [
    {
     "data": {
      "text/plain": [
       "array([13.25])"
      ]
     },
     "execution_count": 32,
     "metadata": {},
     "output_type": "execute_result"
    }
   ],
   "source": [
    "np.percentile(data_copy,[25])"
   ]
  },
  {
   "cell_type": "code",
   "execution_count": 33,
   "metadata": {},
   "outputs": [
    {
     "data": {
      "text/plain": [
       "array([17.5])"
      ]
     },
     "execution_count": 33,
     "metadata": {},
     "output_type": "execute_result"
    }
   ],
   "source": [
    "np.percentile(data_copy,[50])"
   ]
  },
  {
   "cell_type": "code",
   "execution_count": 34,
   "metadata": {},
   "outputs": [
    {
     "data": {
      "text/plain": [
       "array([18.75])"
      ]
     },
     "execution_count": 34,
     "metadata": {},
     "output_type": "execute_result"
    }
   ],
   "source": [
    "np.percentile(data_copy,[75])"
   ]
  },
  {
   "cell_type": "code",
   "execution_count": 35,
   "metadata": {},
   "outputs": [],
   "source": [
    "q1,q2,q3=np.percentile(data_copy,[25,50,75])"
   ]
  },
  {
   "cell_type": "code",
   "execution_count": 36,
   "metadata": {},
   "outputs": [
    {
     "data": {
      "text/plain": [
       "13.25"
      ]
     },
     "execution_count": 36,
     "metadata": {},
     "output_type": "execute_result"
    }
   ],
   "source": [
    "q1"
   ]
  },
  {
   "cell_type": "code",
   "execution_count": 37,
   "metadata": {},
   "outputs": [],
   "source": [
    "IQR=q3-q1"
   ]
  },
  {
   "cell_type": "code",
   "execution_count": 38,
   "metadata": {},
   "outputs": [],
   "source": [
    "##outlier\n",
    "lower_fence=q1-(IQR*1.5)\n",
    "upper_fence=q3+(IQR*1.5)"
   ]
  },
  {
   "cell_type": "code",
   "execution_count": 39,
   "metadata": {},
   "outputs": [
    {
     "data": {
      "text/plain": [
       "[11, 11, 13, 14, 17, 18, 18, 19, 19, 20]"
      ]
     },
     "execution_count": 39,
     "metadata": {},
     "output_type": "execute_result"
    }
   ],
   "source": [
    "data_copy"
   ]
  },
  {
   "cell_type": "code",
   "execution_count": 40,
   "metadata": {},
   "outputs": [
    {
     "data": {
      "text/plain": [
       "5.0"
      ]
     },
     "execution_count": 40,
     "metadata": {},
     "output_type": "execute_result"
    }
   ],
   "source": [
    "lower_fence"
   ]
  },
  {
   "cell_type": "code",
   "execution_count": 41,
   "metadata": {},
   "outputs": [
    {
     "data": {
      "text/plain": [
       "27.0"
      ]
     },
     "execution_count": 41,
     "metadata": {},
     "output_type": "execute_result"
    }
   ],
   "source": [
    "upper_fence"
   ]
  },
  {
   "cell_type": "code",
   "execution_count": 42,
   "metadata": {},
   "outputs": [
    {
     "data": {
      "text/plain": [
       "<Axes: >"
      ]
     },
     "execution_count": 42,
     "metadata": {},
     "output_type": "execute_result"
    },
    {
     "data": {
      "image/png": "[encoded data removed]",
      "text/plain": [
       "<Figure size 640x480 with 1 Axes>"
      ]
     },
     "metadata": {},
     "output_type": "display_data"
    }
   ],
   "source": [
    "sns.boxplot(data_copy)"
   ]
  },
  {
   "cell_type": "code",
   "execution_count": 43,
   "metadata": {},
   "outputs": [],
   "source": [
    "data_copy.append(30)\n",
    "#data_copy.pop()"
   ]
  },
  {
   "cell_type": "code",
   "execution_count": 44,
   "metadata": {},
   "outputs": [
    {
     "data": {
      "text/plain": [
       "[11, 11, 13, 14, 17, 18, 18, 19, 19, 20, 30]"
      ]
     },
     "execution_count": 44,
     "metadata": {},
     "output_type": "execute_result"
    }
   ],
   "source": [
    "data_copy"
   ]
  },
  {
   "cell_type": "code",
   "execution_count": 45,
   "metadata": {},
   "outputs": [
    {
     "data": {
      "text/plain": [
       "<Axes: >"
      ]
     },
     "execution_count": 45,
     "metadata": {},
     "output_type": "execute_result"
    },
    {
     "data": {
      "image/png": "[encoded data removed]",
      "text/plain": [
       "<Figure size 640x480 with 1 Axes>"
      ]
     },
     "metadata": {},
     "output_type": "display_data"
    }
   ],
   "source": [
    "sns.boxplot(data_copy)"
   ]
  },
  {
   "cell_type": "code",
   "execution_count": 46,
   "metadata": {},
   "outputs": [],
   "source": [
    "data_copy=data.copy()"
   ]
  },
  {
   "cell_type": "code",
   "execution_count": 47,
   "metadata": {},
   "outputs": [
    {
     "data": {
      "text/plain": [
       "[14, 11, 18, 19, 20, 13, 19, 17, 11, 18]"
      ]
     },
     "execution_count": 47,
     "metadata": {},
     "output_type": "execute_result"
    }
   ],
   "source": [
    "data_copy"
   ]
  },
  {
   "cell_type": "code",
   "execution_count": 48,
   "metadata": {},
   "outputs": [
    {
     "data": {
      "text/plain": [
       "10.6"
      ]
     },
     "execution_count": 48,
     "metadata": {},
     "output_type": "execute_result"
    }
   ],
   "source": [
    "##Variance\n",
    "np.var(data_copy)"
   ]
  },
  {
   "cell_type": "code",
   "execution_count": 49,
   "metadata": {},
   "outputs": [
    {
     "data": {
      "text/plain": [
       "3.255764119219941"
      ]
     },
     "execution_count": 49,
     "metadata": {},
     "output_type": "execute_result"
    }
   ],
   "source": [
    "np.std(data_copy)"
   ]
  },
  {
   "cell_type": "code",
   "execution_count": 50,
   "metadata": {},
   "outputs": [
    {
     "data": {
      "text/plain": [
       "10.6"
      ]
     },
     "execution_count": 50,
     "metadata": {},
     "output_type": "execute_result"
    }
   ],
   "source": [
    "statistics.pvariance(data_copy)"
   ]
  },
  {
   "cell_type": "code",
   "execution_count": 51,
   "metadata": {},
   "outputs": [],
   "source": [
    "## Custom Variance fn\n",
    "import math"
   ]
  },
  {
   "cell_type": "code",
   "execution_count": 52,
   "metadata": {},
   "outputs": [],
   "source": [
    "def cal_variance(data):\n",
    "    n = len(data)\n",
    "    \n",
    "    # Calculate the mean\n",
    "    mean = sum(data) / n\n",
    "    \n",
    "    # Calculate the squared differences from the mean\n",
    "    squared_diff = [(x - mean) ** 2 for x in data]\n",
    "    \n",
    "    # Calculate the variance\n",
    "    variance = sum(squared_diff) / n\n",
    "\n",
    "    # Calculate the std\n",
    "    std=math.sqrt(variance)\n",
    "\n",
    "    #Calculate MAD\n",
    "    MAD=sum((x-mean) for x in data)/n\n",
    "    print('Mean absolute deviation is: ',MAD)\n",
    "    \n",
    "    return variance,std\n"
   ]
  },
  {
   "cell_type": "code",
   "execution_count": 53,
   "metadata": {},
   "outputs": [
    {
     "name": "stdout",
     "output_type": "stream",
     "text": [
      "Mean absolute deviation is:  0.0\n"
     ]
    },
    {
     "data": {
      "text/plain": [
       "(10.6, 3.255764119219941)"
      ]
     },
     "execution_count": 53,
     "metadata": {},
     "output_type": "execute_result"
    }
   ],
   "source": [
    "cal_variance(data_copy)"
   ]
  },
  {
   "cell_type": "code",
   "execution_count": 54,
   "metadata": {},
   "outputs": [],
   "source": [
    "## Correlation and Covariance\n",
    "data2.drop(['species'], axis=1, inplace=True)"
   ]
  },
  {
   "cell_type": "code",
   "execution_count": 55,
   "metadata": {},
   "outputs": [
    {
     "data": {
      "text/plain": [
       "array([[ 0.68569351, -0.03926846,  1.27368233,  0.5169038 ],\n",
       "       [-0.03926846,  0.18800403, -0.32171275, -0.11798121],\n",
       "       [ 1.27368233, -0.32171275,  3.11317942,  1.29638747],\n",
       "       [ 0.5169038 , -0.11798121,  1.29638747,  0.58241432]])"
      ]
     },
     "execution_count": 55,
     "metadata": {},
     "output_type": "execute_result"
    }
   ],
   "source": [
    "np.cov(data2.T)"
   ]
  },
  {
   "cell_type": "code",
   "execution_count": 56,
   "metadata": {},
   "outputs": [
    {
     "data": {
      "text/plain": [
       "array([[ 1.        , -0.10936925,  0.87175416,  0.81795363],\n",
       "       [-0.10936925,  1.        , -0.4205161 , -0.35654409],\n",
       "       [ 0.87175416, -0.4205161 ,  1.        ,  0.9627571 ],\n",
       "       [ 0.81795363, -0.35654409,  0.9627571 ,  1.        ]])"
      ]
     },
     "execution_count": 56,
     "metadata": {},
     "output_type": "execute_result"
    }
   ],
   "source": [
    "np.corrcoef(data2.T)"
   ]
  },
  {
   "cell_type": "code",
   "execution_count": 57,
   "metadata": {},
   "outputs": [
    {
     "data": {
      "text/html": [
       "<div>\n",
       "<style scoped>\n",
       "    .dataframe tbody tr th:only-of-type {\n",
       "        vertical-align: middle;\n",
       "    }\n",
       "\n",
       "    .dataframe tbody tr th {\n",
       "        vertical-align: top;\n",
       "    }\n",
       "\n",
       "    .dataframe thead th {\n",
       "        text-align: right;\n",
       "    }\n",
       "</style>\n",
       "<table border=\"1\" class=\"dataframe\">\n",
       "  <thead>\n",
       "    <tr style=\"text-align: right;\">\n",
       "      <th></th>\n",
       "      <th>sepal_length</th>\n",
       "      <th>sepal_width</th>\n",
       "      <th>petal_length</th>\n",
       "      <th>petal_width</th>\n",
       "    </tr>\n",
       "  </thead>\n",
       "  <tbody>\n",
       "    <tr>\n",
       "      <th>sepal_length</th>\n",
       "      <td>0.685694</td>\n",
       "      <td>-0.039268</td>\n",
       "      <td>1.273682</td>\n",
       "      <td>0.516904</td>\n",
       "    </tr>\n",
       "    <tr>\n",
       "      <th>sepal_width</th>\n",
       "      <td>-0.039268</td>\n",
       "      <td>0.188004</td>\n",
       "      <td>-0.321713</td>\n",
       "      <td>-0.117981</td>\n",
       "    </tr>\n",
       "    <tr>\n",
       "      <th>petal_length</th>\n",
       "      <td>1.273682</td>\n",
       "      <td>-0.321713</td>\n",
       "      <td>3.113179</td>\n",
       "      <td>1.296387</td>\n",
       "    </tr>\n",
       "    <tr>\n",
       "      <th>petal_width</th>\n",
       "      <td>0.516904</td>\n",
       "      <td>-0.117981</td>\n",
       "      <td>1.296387</td>\n",
       "      <td>0.582414</td>\n",
       "    </tr>\n",
       "  </tbody>\n",
       "</table>\n",
       "</div>"
      ],
      "text/plain": [
       "              sepal_length  sepal_width  petal_length  petal_width\n",
       "sepal_length      0.685694    -0.039268      1.273682     0.516904\n",
       "sepal_width      -0.039268     0.188004     -0.321713    -0.117981\n",
       "petal_length      1.273682    -0.321713      3.113179     1.296387\n",
       "petal_width       0.516904    -0.117981      1.296387     0.582414"
      ]
     },
     "execution_count": 57,
     "metadata": {},
     "output_type": "execute_result"
    }
   ],
   "source": [
    "data2.cov()"
   ]
  },
  {
   "cell_type": "code",
   "execution_count": 58,
   "metadata": {},
   "outputs": [
    {
     "data": {
      "text/html": [
       "<div>\n",
       "<style scoped>\n",
       "    .dataframe tbody tr th:only-of-type {\n",
       "        vertical-align: middle;\n",
       "    }\n",
       "\n",
       "    .dataframe tbody tr th {\n",
       "        vertical-align: top;\n",
       "    }\n",
       "\n",
       "    .dataframe thead th {\n",
       "        text-align: right;\n",
       "    }\n",
       "</style>\n",
       "<table border=\"1\" class=\"dataframe\">\n",
       "  <thead>\n",
       "    <tr style=\"text-align: right;\">\n",
       "      <th></th>\n",
       "      <th>sepal_length</th>\n",
       "      <th>sepal_width</th>\n",
       "      <th>petal_length</th>\n",
       "      <th>petal_width</th>\n",
       "    </tr>\n",
       "  </thead>\n",
       "  <tbody>\n",
       "    <tr>\n",
       "      <th>sepal_length</th>\n",
       "      <td>1.000000</td>\n",
       "      <td>-0.109369</td>\n",
       "      <td>0.871754</td>\n",
       "      <td>0.817954</td>\n",
       "    </tr>\n",
       "    <tr>\n",
       "      <th>sepal_width</th>\n",
       "      <td>-0.109369</td>\n",
       "      <td>1.000000</td>\n",
       "      <td>-0.420516</td>\n",
       "      <td>-0.356544</td>\n",
       "    </tr>\n",
       "    <tr>\n",
       "      <th>petal_length</th>\n",
       "      <td>0.871754</td>\n",
       "      <td>-0.420516</td>\n",
       "      <td>1.000000</td>\n",
       "      <td>0.962757</td>\n",
       "    </tr>\n",
       "    <tr>\n",
       "      <th>petal_width</th>\n",
       "      <td>0.817954</td>\n",
       "      <td>-0.356544</td>\n",
       "      <td>0.962757</td>\n",
       "      <td>1.000000</td>\n",
       "    </tr>\n",
       "  </tbody>\n",
       "</table>\n",
       "</div>"
      ],
      "text/plain": [
       "              sepal_length  sepal_width  petal_length  petal_width\n",
       "sepal_length      1.000000    -0.109369      0.871754     0.817954\n",
       "sepal_width      -0.109369     1.000000     -0.420516    -0.356544\n",
       "petal_length      0.871754    -0.420516      1.000000     0.962757\n",
       "petal_width       0.817954    -0.356544      0.962757     1.000000"
      ]
     },
     "execution_count": 58,
     "metadata": {},
     "output_type": "execute_result"
    }
   ],
   "source": [
    "data2.corr()"
   ]
  },
  {
   "cell_type": "code",
   "execution_count": 59,
   "metadata": {},
   "outputs": [
    {
     "data": {
      "text/plain": [
       "<Axes: xlabel='petal_width', ylabel='petal_length'>"
      ]
     },
     "execution_count": 59,
     "metadata": {},
     "output_type": "execute_result"
    },
    {
     "data": {
      "image/png": "[encoded data removed]",
      "text/plain": [
       "<Figure size 640x480 with 1 Axes>"
      ]
     },
     "metadata": {},
     "output_type": "display_data"
    }
   ],
   "source": [
    "sns.scatterplot(x=data2['petal_width'], y=data2['petal_length'])"
   ]
  },
  {
   "cell_type": "markdown",
   "metadata": {},
   "source": [
    "### Stats Part 2"
   ]
  },
  {
   "cell_type": "code",
   "execution_count": 60,
   "metadata": {},
   "outputs": [],
   "source": [
    "data=[23,24,32,45,12,43,67,45,32,56,32]"
   ]
  },
  {
   "cell_type": "code",
   "execution_count": 61,
   "metadata": {},
   "outputs": [
    {
     "data": {
      "text/plain": [
       "[23, 24, 32, 45, 12, 43, 67, 45, 32, 56, 32]"
      ]
     },
     "execution_count": 61,
     "metadata": {},
     "output_type": "execute_result"
    }
   ],
   "source": [
    "data_copy=data.copy()\n",
    "data_copy"
   ]
  },
  {
   "cell_type": "code",
   "execution_count": 62,
   "metadata": {},
   "outputs": [
    {
     "data": {
      "text/plain": [
       "<Axes: ylabel='Count'>"
      ]
     },
     "execution_count": 62,
     "metadata": {},
     "output_type": "execute_result"
    },
    {
     "data": {
      "image/png": "[encoded data removed]",
      "text/plain": [
       "<Figure size 640x480 with 1 Axes>"
      ]
     },
     "metadata": {},
     "output_type": "display_data"
    }
   ],
   "source": [
    "sns.histplot(data_copy,kde=True)"
   ]
  },
  {
   "cell_type": "code",
   "execution_count": 63,
   "metadata": {},
   "outputs": [
    {
     "data": {
      "text/plain": [
       "[12, 23, 24, 32, 32, 32, 43, 45, 45, 56, 67]"
      ]
     },
     "execution_count": 63,
     "metadata": {},
     "output_type": "execute_result"
    }
   ],
   "source": [
    "##Right skewed data\n",
    "data_copy.sort()\n",
    "data_copy"
   ]
  },
  {
   "cell_type": "code",
   "execution_count": 64,
   "metadata": {},
   "outputs": [],
   "source": [
    "data_copy.append(179)"
   ]
  },
  {
   "cell_type": "code",
   "execution_count": 65,
   "metadata": {},
   "outputs": [],
   "source": [
    "data_copy.append(210)"
   ]
  },
  {
   "cell_type": "code",
   "execution_count": 66,
   "metadata": {},
   "outputs": [],
   "source": [
    "data_copy.append(290)"
   ]
  },
  {
   "cell_type": "code",
   "execution_count": 67,
   "metadata": {},
   "outputs": [
    {
     "data": {
      "text/plain": [
       "<Axes: ylabel='Count'>"
      ]
     },
     "execution_count": 67,
     "metadata": {},
     "output_type": "execute_result"
    },
    {
     "data": {
      "image/png": "[encoded data removed]",
      "text/plain": [
       "<Figure size 640x480 with 1 Axes>"
      ]
     },
     "metadata": {},
     "output_type": "display_data"
    }
   ],
   "source": [
    "sns.histplot(data_copy,kde=True)"
   ]
  },
  {
   "cell_type": "code",
   "execution_count": 68,
   "metadata": {},
   "outputs": [],
   "source": [
    "#sns.boxplot(data_copy)"
   ]
  },
  {
   "cell_type": "code",
   "execution_count": 69,
   "metadata": {},
   "outputs": [],
   "source": [
    "##Left skewed data\n",
    "data_copy2=data.copy()"
   ]
  },
  {
   "cell_type": "code",
   "execution_count": 70,
   "metadata": {},
   "outputs": [],
   "source": [
    "data_copy2.insert(0,-10)"
   ]
  },
  {
   "cell_type": "code",
   "execution_count": 71,
   "metadata": {},
   "outputs": [],
   "source": [
    "data_copy2.insert(0,-75)"
   ]
  },
  {
   "cell_type": "code",
   "execution_count": 72,
   "metadata": {},
   "outputs": [
    {
     "data": {
      "text/plain": [
       "<Axes: ylabel='Count'>"
      ]
     },
     "execution_count": 72,
     "metadata": {},
     "output_type": "execute_result"
    },
    {
     "data": {
      "image/png": "[encoded data removed]",
      "text/plain": [
       "<Figure size 640x480 with 1 Axes>"
      ]
     },
     "metadata": {},
     "output_type": "display_data"
    }
   ],
   "source": [
    "sns.histplot(data_copy2,kde=True)"
   ]
  },
  {
   "cell_type": "code",
   "execution_count": 73,
   "metadata": {},
   "outputs": [
    {
     "data": {
      "text/plain": [
       "Index(['sepal_length', 'sepal_width', 'petal_length', 'petal_width',\n",
       "       'species'],\n",
       "      dtype='object')"
      ]
     },
     "execution_count": 73,
     "metadata": {},
     "output_type": "execute_result"
    }
   ],
   "source": [
    "data2=pd.read_csv(r\"C:\\Users\\Aron\\Downloads\\fsdmstats\\iris.csv\")\n",
    "data2.columns"
   ]
  },
  {
   "cell_type": "code",
   "execution_count": 74,
   "metadata": {},
   "outputs": [
    {
     "data": {
      "text/plain": [
       "<Axes: xlabel='sepal_length', ylabel='Count'>"
      ]
     },
     "execution_count": 74,
     "metadata": {},
     "output_type": "execute_result"
    },
    {
     "data": {
      "image/png": "[encoded data removed]",
      "text/plain": [
       "<Figure size 640x480 with 1 Axes>"
      ]
     },
     "metadata": {},
     "output_type": "display_data"
    }
   ],
   "source": [
    "sns.histplot(data2['sepal_length'],kde=True)"
   ]
  },
  {
   "cell_type": "code",
   "execution_count": 75,
   "metadata": {},
   "outputs": [
    {
     "data": {
      "text/plain": [
       "<Axes: xlabel='sepal_width', ylabel='Count'>"
      ]
     },
     "execution_count": 75,
     "metadata": {},
     "output_type": "execute_result"
    },
    {
     "data": {
      "image/png": "[encoded data removed]",
      "text/plain": [
       "<Figure size 640x480 with 1 Axes>"
      ]
     },
     "metadata": {},
     "output_type": "display_data"
    }
   ],
   "source": [
    "sns.histplot(data2['sepal_width'],kde=True)"
   ]
  },
  {
   "cell_type": "code",
   "execution_count": 76,
   "metadata": {},
   "outputs": [
    {
     "data": {
      "text/plain": [
       "<Axes: xlabel='petal_length', ylabel='Count'>"
      ]
     },
     "execution_count": 76,
     "metadata": {},
     "output_type": "execute_result"
    },
    {
     "data": {
      "image/png": "[encoded data removed]",
      "text/plain": [
       "<Figure size 640x480 with 1 Axes>"
      ]
     },
     "metadata": {},
     "output_type": "display_data"
    }
   ],
   "source": [
    "##Bimodal\n",
    "sns.histplot(data2['petal_length'],kde=True)"
   ]
  },
  {
   "cell_type": "code",
   "execution_count": 77,
   "metadata": {},
   "outputs": [
    {
     "data": {
      "text/plain": [
       "<Axes: xlabel='petal_width', ylabel='Count'>"
      ]
     },
     "execution_count": 77,
     "metadata": {},
     "output_type": "execute_result"
    },
    {
     "data": {
      "image/png": "[encoded data removed]",
      "text/plain": [
       "<Figure size 640x480 with 1 Axes>"
      ]
     },
     "metadata": {},
     "output_type": "display_data"
    }
   ],
   "source": [
    "sns.histplot(data2['petal_width'],kde=True)"
   ]
  },
  {
   "cell_type": "code",
   "execution_count": 78,
   "metadata": {},
   "outputs": [],
   "source": [
    "mu=0.5\n",
    "sigma=0.2\n",
    "normal_distributed_data=np.random.normal(mu,sigma,1000)"
   ]
  },
  {
   "cell_type": "code",
   "execution_count": 79,
   "metadata": {},
   "outputs": [
    {
     "data": {
      "text/plain": [
       "array([ 0.23724525,  0.31337871,  0.35461189,  0.01924411,  0.21777854,\n",
       "        0.60423617,  0.28907683,  0.58374962,  0.73612601,  0.69230603,\n",
       "        0.66988426,  0.26592166,  0.58970998,  0.528033  ,  0.52253346,\n",
       "        0.44295645,  0.31364356,  0.488123  ,  0.93940105,  0.59082903,\n",
       "        0.88381758,  0.63987655,  0.65519596,  0.8395452 ,  0.69764073,\n",
       "        0.33012767,  0.56628061,  0.71484181,  0.7659416 ,  0.44457011,\n",
       "        0.94931731,  1.01342084,  0.72686487,  0.51016884,  0.45684122,\n",
       "        0.60507084,  0.30283354,  0.25327502,  0.42866163,  0.51488965,\n",
       "        0.56198419,  0.5757096 ,  0.34378714,  0.38232923,  0.30521893,\n",
       "        0.61025235,  0.31284964,  0.64136155,  0.79331518,  0.2311136 ,\n",
       "        0.60857835,  0.61338719,  0.37697436,  0.48403089,  0.34812903,\n",
       "        0.29991548,  0.76723193,  0.19051253,  0.56752719,  0.51797963,\n",
       "        0.23028373,  0.43363049,  0.464308  ,  0.52783981,  0.31294306,\n",
       "        0.79386897,  0.40805481,  0.46416173,  0.20047061,  0.24452488,\n",
       "        0.27861331,  0.46342888,  0.67243005,  0.24510775,  0.84042751,\n",
       "        0.27733044,  0.48956452,  0.80280698,  0.31070993,  0.58312158,\n",
       "        0.90376174,  0.4792534 ,  0.62284082,  0.26580079,  0.61567552,\n",
       "        0.26046373,  0.70814501,  0.27875548,  0.38580275,  0.18570181,\n",
       "        0.23267495,  0.42332841,  0.54611817,  0.30979215,  0.37325597,\n",
       "        0.64163915,  0.35252003,  0.44923453,  0.61747861,  0.54422695,\n",
       "        0.383261  ,  0.00375631,  0.63279416,  0.41106479,  0.74446084,\n",
       "        0.2720793 ,  0.04185584,  0.61260102,  0.47507671,  0.42614351,\n",
       "        0.19244719,  0.69847211,  0.55189742,  0.55211484,  0.19746228,\n",
       "        0.10970571,  0.20188285,  0.3013669 ,  0.88212667,  0.33791609,\n",
       "        0.64782642,  0.321073  ,  0.25849789,  0.18362605,  0.61784324,\n",
       "        0.58638877,  0.44090434, -0.03975376,  0.26709649,  0.35665298,\n",
       "        0.56596349,  0.41571136,  0.59487839,  0.36038084,  0.34254042,\n",
       "        0.67390507,  0.52031818,  0.54455444,  0.46525669,  0.63268425,\n",
       "        0.47253239,  0.23541361,  0.7251112 ,  0.70595901,  0.52872133,\n",
       "        0.73628375,  0.40299855,  0.55335644,  0.5373777 ,  0.29017993,\n",
       "        0.53006393,  0.66449482,  0.58623796,  0.56135072,  0.51848895,\n",
       "        0.34424788,  0.69840189,  0.28064725,  0.28524443,  0.57270937,\n",
       "        0.05701771,  0.67154939,  0.20302937,  0.63790786,  0.70607808,\n",
       "        0.48299947,  0.55782824,  0.70220864,  0.39112256,  0.35321636,\n",
       "        0.35393293,  0.45791127,  0.33734835,  0.78076253,  0.51360622,\n",
       "        0.34841588,  0.41099303,  0.27972116,  0.51925101,  0.51340518,\n",
       "        0.65737081,  0.66508509,  0.73511826,  0.59557114,  0.3581535 ,\n",
       "        0.22774876,  0.5417238 ,  0.5620923 ,  0.52065824,  0.68044239,\n",
       "        0.38596481,  0.80438791,  0.28733913,  0.43773901,  0.69374499,\n",
       "        0.76596329,  0.64248718,  0.85442508,  0.34559489,  0.30618199,\n",
       "        0.22744896,  0.72512245,  0.64991237,  0.57706016,  0.52770525,\n",
       "        0.58997366,  0.64023242,  0.2556397 ,  0.43136184,  0.35521342,\n",
       "       -0.0552967 ,  0.0709796 ,  0.35801218,  0.45822405,  0.82165058,\n",
       "        0.50909838,  0.52128804,  0.46809341,  0.57166327,  0.53304365,\n",
       "        0.58018754,  0.31277475,  0.78917302,  0.68034924, -0.03539099,\n",
       "        0.38579573,  0.22935234,  0.63202671,  0.50177312,  0.44469074,\n",
       "        0.38666066,  0.12434034,  0.30432604,  0.37989452,  0.44462926,\n",
       "        0.12892574,  0.71761325,  0.33226466,  0.38719849,  0.31067968,\n",
       "        0.7165877 ,  0.56864858,  0.54645049,  0.30407057,  0.88013713,\n",
       "        0.51699234,  0.36082565,  0.58716971,  0.820893  ,  0.63845737,\n",
       "        0.58363134,  0.4315358 ,  0.7021833 ,  0.55038791,  0.09269119,\n",
       "        0.01207469,  0.47482604,  0.60046437,  0.66735559,  0.46335101,\n",
       "        0.24217628,  0.50532073,  0.58825568,  0.47442591,  0.326052  ,\n",
       "        0.41905119,  0.46485795,  0.23303691,  0.66327776,  0.35717628,\n",
       "        0.74558887,  0.49865114,  0.45871371,  0.3786475 ,  0.22065479,\n",
       "        0.61230309,  0.57333514,  0.33343646,  0.68249041,  0.63595332,\n",
       "        0.6531089 ,  0.17720762,  0.74290361,  0.42879084,  0.37221986,\n",
       "        0.11240363,  0.82178794,  0.56527502,  0.46529181,  0.72354354,\n",
       "        0.56256664,  0.50021353,  0.17669773,  0.53178228,  0.3763275 ,\n",
       "        0.5096319 ,  0.43225418,  0.37519523,  0.60344027,  0.57642059,\n",
       "        0.51757919,  0.41119483,  0.56066033,  0.3805857 ,  0.41341408,\n",
       "        0.38109717,  0.31381705,  0.88187847,  0.55005504,  0.68532658,\n",
       "        0.76659158,  0.23639871,  0.49579318,  0.41746675,  0.75947459,\n",
       "        0.01645361,  0.35428339,  0.66432455,  0.63800823,  0.46490642,\n",
       "        0.69341831,  0.72183038,  0.65182341,  0.82939805,  0.49619017,\n",
       "        0.71583909,  0.43003457,  0.66713442,  0.74163627,  0.43749289,\n",
       "        0.27208803,  0.53292497,  0.53179189,  0.05769757,  0.39508315,\n",
       "        0.67535879,  0.60410983,  0.35853568,  0.4193773 ,  0.6765678 ,\n",
       "        0.56486021,  0.72906416,  0.59625596,  0.12426515,  0.06234936,\n",
       "        0.96869694,  0.50642292,  0.30517901,  0.67582045,  0.61793429,\n",
       "        0.17822868,  0.42803271,  0.48238313,  0.37662883,  0.27372921,\n",
       "        0.39393896,  0.47201785,  0.7117484 ,  0.28673212,  0.57414707,\n",
       "        0.27951068,  0.20217777,  0.6231125 ,  0.57367586,  0.36840256,\n",
       "       -0.17387968,  0.36042999,  1.19100566,  0.5779701 ,  0.34384961,\n",
       "        0.78677151,  0.34325378,  0.66447043,  0.83735233,  0.79990336,\n",
       "        0.55473191,  0.77203035,  0.84860295,  0.21975664,  0.66150496,\n",
       "        0.58643802,  0.24448302,  0.604377  ,  0.22932609,  0.39924478,\n",
       "        0.41370275,  0.97903463,  0.66932841,  0.44022851,  0.27796527,\n",
       "        0.39522166,  0.29748036,  0.40098187,  0.21334934,  0.65524341,\n",
       "        0.31572714,  0.77153045,  0.56057419,  0.04997472,  0.62178741,\n",
       "        0.41856968,  0.53061896,  0.75994621,  0.61955991,  0.78602869,\n",
       "        0.7648029 ,  0.63238698,  0.87507396,  0.64019602,  0.40997134,\n",
       "        0.59528129,  0.23912791,  0.63705549,  0.56203133,  0.44484387,\n",
       "        0.4150109 ,  0.43409512,  0.61861817,  0.38751444,  0.58202199,\n",
       "        0.61848466,  0.50957124,  0.36156323,  0.34925558,  0.60477828,\n",
       "        0.41938816,  0.52065964,  0.61813121,  0.20867575,  0.56326014,\n",
       "        0.21298545,  0.69614262,  0.38029005,  0.32667158,  0.24604453,\n",
       "        0.00768359,  0.23871669,  0.19813635,  0.31847802,  0.4647865 ,\n",
       "        0.61035869,  0.54735227,  0.56680712,  0.51974405,  0.66901349,\n",
       "        0.64741236,  0.51536027,  0.86104352,  0.67361399,  0.63814093,\n",
       "        0.71461259,  0.48357794,  0.5637531 ,  0.57181721,  0.36962841,\n",
       "        0.37776851,  0.54696475,  0.42099056,  0.3475531 ,  0.44328116,\n",
       "        0.71655033,  0.32051442,  0.62057516,  0.79527266,  0.34921176,\n",
       "        0.52311348,  0.33880836,  0.71338366,  0.50153355,  0.2940689 ,\n",
       "        0.42887181,  0.53621696,  0.61841539,  0.64297407,  0.35761249,\n",
       "        0.23456668,  0.77246721,  0.70585063,  0.71305029,  0.63188861,\n",
       "        0.38935574,  0.49512573,  0.63102402,  0.66418648,  0.70425642,\n",
       "        0.52540915,  0.65082973,  0.3262413 ,  0.58517063,  0.25358985,\n",
       "        0.42575479,  0.12488082,  0.83775881,  0.48184288,  0.57579103,\n",
       "        0.71628237,  0.40354039,  0.14779651,  0.90205282,  0.14249944,\n",
       "        0.60296326,  0.44980084,  0.40524415,  1.0970156 ,  0.61033431,\n",
       "        0.32166492,  0.21525345,  0.64539976,  0.55050858,  0.43342017,\n",
       "        0.41684038,  0.59828918,  0.47561284,  0.82003039,  0.6624713 ,\n",
       "        0.45637187,  0.69011563,  0.39966283,  0.70034828,  0.4670638 ,\n",
       "        0.7433239 ,  0.34675424,  0.20043987,  0.3356736 ,  0.27250032,\n",
       "        0.62452309,  0.10837612,  0.42827319,  0.39522143,  0.46172758,\n",
       "        0.57071987,  0.63063742,  0.50565118,  0.3755901 ,  0.36991782,\n",
       "        0.2484815 ,  0.53237736,  0.84743497,  0.48454882,  0.59161613,\n",
       "        0.61309546,  0.61947768,  0.60888527,  0.71100005,  0.64910319,\n",
       "        0.42689663,  0.58995804,  0.68181133,  0.76882549,  0.6543705 ,\n",
       "        0.53004487,  0.49255389,  0.53039546,  0.14278598,  0.71979875,\n",
       "        0.43015537,  0.47187643,  0.62276892,  0.73341685,  0.59166336,\n",
       "        0.61940947,  0.51591545,  0.33898102,  0.75309906,  0.032847  ,\n",
       "        0.62510332,  0.43537755,  0.25554748,  0.62392015,  0.35925058,\n",
       "        0.17478214,  0.71029238,  0.64944385,  0.53904009,  0.35443209,\n",
       "        0.44367961,  0.71481984,  0.48756945,  0.69278262,  0.39853857,\n",
       "        0.38902783,  0.26793441,  0.71755282,  0.69457479,  0.62380389,\n",
       "        0.77580737,  0.4903591 ,  0.20146628,  0.3135339 ,  0.18301165,\n",
       "        0.45388685,  0.49941941,  0.53582846,  0.14617815,  0.31305268,\n",
       "        0.98344864,  0.44478086,  0.30574336,  0.61177197,  0.3454919 ,\n",
       "        0.42961201,  0.33218113,  0.62935167,  0.51426526,  0.17031664,\n",
       "        0.45135412,  0.55554498,  0.46915211,  0.64248343,  0.05152609,\n",
       "        0.85650618,  0.54383457,  0.43626872,  0.55293934,  0.4864631 ,\n",
       "        0.43724983,  0.64656539,  0.90912337,  0.4599763 ,  0.72060135,\n",
       "        0.52374509,  0.18949743,  0.37498604,  0.21611532,  0.45997548,\n",
       "        0.58756075,  0.57403138,  0.26248094,  0.43085379,  0.40185643,\n",
       "        0.50165589,  0.1958056 ,  0.74309164,  0.40239936,  0.81447106,\n",
       "        0.72889473,  0.66489992,  0.74631487,  0.34724549,  0.68494865,\n",
       "        0.27821659,  0.58000049,  0.47174535,  0.8194786 ,  0.4955162 ,\n",
       "        0.36495217,  0.51705093,  0.39086583,  0.68702644,  0.79205037,\n",
       "        0.18638649,  0.2062433 ,  0.78121318,  0.35699315,  0.34977816,\n",
       "        0.36193615,  0.21860546,  0.7452921 ,  0.31559362,  1.08839233,\n",
       "        0.6875695 ,  0.66428444,  0.77788217,  0.59274923,  0.87095386,\n",
       "        0.68166561,  0.57196065,  0.60722758,  0.60047515,  0.47182754,\n",
       "        0.23045223,  0.37198207,  0.58187441,  0.3101957 ,  0.66337958,\n",
       "        0.66947426,  0.02022729,  0.99790208,  0.34193418,  0.6256232 ,\n",
       "        0.64582494,  0.64846664,  0.55923971,  0.31863145,  0.55623799,\n",
       "        0.36694887,  0.41397693,  0.34829763,  0.14330942,  0.82138336,\n",
       "        0.57245887,  0.78532138,  0.64005477,  0.60276388,  0.40430147,\n",
       "        0.89111168,  0.82711626,  0.59820707,  0.53385953,  0.41711807,\n",
       "        0.46286606,  0.04182709,  0.80635124,  0.7729224 ,  0.91457499,\n",
       "        0.60260362,  0.60377819,  0.45609643,  0.5206996 ,  0.67126517,\n",
       "        0.52405156,  0.72174136,  0.78285571,  0.63091965,  0.93521951,\n",
       "        0.47165076,  0.56061268,  0.69145821,  0.59685403,  0.31666161,\n",
       "        0.55855487,  0.65692116,  0.22399675,  0.67187102,  0.25723789,\n",
       "        0.22128012,  0.78460407,  0.5132668 ,  0.7119151 ,  0.30032782,\n",
       "        0.68497368,  0.76037461,  0.21978443,  0.44265584,  0.40089261,\n",
       "        0.65888273,  0.67262866,  0.49103864,  0.40763852,  0.72967   ,\n",
       "        0.49864918,  0.33983087,  0.17857106,  0.72379228,  0.67763245,\n",
       "        0.2603286 ,  0.27180647,  0.65832702,  0.76201693,  0.66235814,\n",
       "        0.39952481,  0.7368612 ,  0.35764529,  0.7895742 ,  0.85396384,\n",
       "        0.39105328,  0.60912358,  1.15185929,  0.46269736,  0.62965132,\n",
       "        0.56168042,  0.51608781,  0.62440766,  0.51428295,  0.94974608,\n",
       "        0.29016145,  0.40928532,  0.18679663,  0.62179739,  0.55387565,\n",
       "        0.5145169 ,  0.5349592 ,  0.39038342,  0.58011245,  0.64311244,\n",
       "        0.61391791,  0.55442694,  0.21645872,  0.21516327,  0.42752659,\n",
       "        0.55651824,  0.36501585,  0.47472085,  0.50759382,  0.46465811,\n",
       "        0.63857161,  0.57276612,  0.486076  ,  0.31505815,  0.29032681,\n",
       "        0.81300846,  0.08048784,  0.87706807,  0.41232761,  0.38446691,\n",
       "        0.41817679,  0.48431227,  0.50885653,  0.57847752,  0.42058496,\n",
       "        0.71989995,  0.80889112,  0.46335996,  0.36261068,  0.70181566,\n",
       "        0.1235179 ,  0.38085655,  0.59717947,  0.75226388,  0.24940828,\n",
       "        0.58574748,  0.58720656,  0.48560656,  0.59041965,  0.4047831 ,\n",
       "        0.70185453,  0.92245404,  0.31645233,  0.53012888,  0.5372926 ,\n",
       "        0.68421279,  0.41910245,  0.45122576,  0.76296954,  0.60549523,\n",
       "        0.54815632,  0.63025058,  0.26218094,  0.52672404,  0.34402082,\n",
       "        0.62200683,  0.41774914,  0.14596119,  0.42764146,  0.94539486,\n",
       "        0.62258114,  0.35633785,  0.52500712,  0.59323665,  0.85322523,\n",
       "        0.30587717,  0.26855071,  0.57050513,  0.41802671,  0.6584547 ,\n",
       "        0.36168271,  0.49742124,  0.45799681,  0.34661254,  0.61426142,\n",
       "        0.52087122,  0.40312941,  0.63178367,  0.69609338,  0.49315   ,\n",
       "        0.70725669,  0.50378064,  0.77939842,  0.25036565,  0.46940244,\n",
       "        0.4770576 ,  0.59417625,  0.50988972,  0.63584418,  0.75240952,\n",
       "        0.21134051,  0.60226604,  0.28843849,  0.56628167,  0.62582019,\n",
       "        0.22005522,  0.63052703,  0.39019135,  0.20713246,  0.25682421,\n",
       "        0.387283  ,  0.54736627,  0.54644855,  0.33476962,  0.71421723,\n",
       "        0.07259293,  0.36088836,  0.61281443,  0.76849901,  0.61236462,\n",
       "        0.45958813,  0.76245273,  0.64276855,  0.56526751,  0.49162393,\n",
       "        0.25746079,  0.3231479 ,  0.63384163,  1.02113835,  0.22610042,\n",
       "        0.50470233,  0.53641743,  0.52995844,  0.68155841,  0.59984154,\n",
       "        0.4856398 ,  0.47294764,  0.624402  ,  0.72247276,  0.30085601,\n",
       "        0.77648819,  0.09407227,  1.10284839,  0.35969056,  0.62709289,\n",
       "        0.14685581,  0.65651177,  0.23374186,  0.2773821 ,  0.4866124 ,\n",
       "        0.41601131,  0.38467047,  0.51884468,  0.49977229,  0.01657917,\n",
       "        0.50732981,  0.47947279,  0.67874624,  0.44130985,  0.48288231,\n",
       "        0.42900196,  0.68186829,  0.2871841 ,  0.3288683 ,  0.53321027,\n",
       "        0.80356082,  0.32582762,  0.64022712,  0.75945203,  1.06187694,\n",
       "        0.27772504,  0.2216455 ,  0.55948223,  0.20182787,  0.51792605,\n",
       "        0.76974949,  0.62671247,  0.62961103,  0.43175877,  0.69863557,\n",
       "        0.73457343,  0.45854893,  0.74224952,  0.52773835,  0.76107714,\n",
       "        0.60997941,  0.61253671,  0.39636949,  0.63546475,  0.3562268 ,\n",
       "        0.35522357,  0.67607802,  0.54610248,  0.45431225,  0.57515198,\n",
       "        0.46807964,  0.86766126,  0.6741012 ,  0.55005471,  0.23915965,\n",
       "        0.53217743,  0.49814593,  0.12360474, -0.01926166,  0.3715681 ,\n",
       "        0.481065  ,  0.50980131,  0.35484108,  0.41590864,  0.42582625,\n",
       "        0.75808077,  0.45322024,  0.26815719,  0.63369234,  0.41245424,\n",
       "        0.26059372,  0.61681179,  0.64198159,  0.89750952,  0.36977243,\n",
       "        0.43880182,  0.24927939,  0.37382926,  0.55540215,  0.47142998,\n",
       "        0.85852836,  0.63166307,  0.18700603,  0.13806848,  0.30135196,\n",
       "        0.75670831,  0.55864138,  0.36442055,  0.1521918 ,  0.20821793])"
      ]
     },
     "execution_count": 79,
     "metadata": {},
     "output_type": "execute_result"
    }
   ],
   "source": [
    "normal_distributed_data"
   ]
  },
  {
   "cell_type": "code",
   "execution_count": 80,
   "metadata": {},
   "outputs": [
    {
     "data": {
      "text/plain": [
       "<Axes: ylabel='Count'>"
      ]
     },
     "execution_count": 80,
     "metadata": {},
     "output_type": "execute_result"
    },
    {
     "data": {
      "image/png": "[encoded data removed]",
      "text/plain": [
       "<Figure size 640x480 with 1 Axes>"
      ]
     },
     "metadata": {},
     "output_type": "display_data"
    }
   ],
   "source": [
    "sns.histplot(normal_distributed_data,kde=True)"
   ]
  },
  {
   "cell_type": "code",
   "execution_count": 81,
   "metadata": {},
   "outputs": [],
   "source": [
    "mu=3.0\n",
    "sigma=1.0\n",
    "log_normal_distributed_data=np.random.lognormal(mu,sigma,1000)"
   ]
  },
  {
   "cell_type": "code",
   "execution_count": 82,
   "metadata": {},
   "outputs": [
    {
     "data": {
      "text/plain": [
       "<Axes: ylabel='Count'>"
      ]
     },
     "execution_count": 82,
     "metadata": {},
     "output_type": "execute_result"
    },
    {
     "data": {
      "image/png": "[encoded data removed]",
      "text/plain": [
       "<Figure size 640x480 with 1 Axes>"
      ]
     },
     "metadata": {},
     "output_type": "display_data"
    }
   ],
   "source": [
    "sns.histplot(log_normal_distributed_data,kde=True)"
   ]
  },
  {
   "cell_type": "code",
   "execution_count": 83,
   "metadata": {},
   "outputs": [
    {
     "data": {
      "text/plain": [
       "<Axes: ylabel='Count'>"
      ]
     },
     "execution_count": 83,
     "metadata": {},
     "output_type": "execute_result"
    },
    {
     "data": {
      "image/png": "[encoded data removed]",
      "text/plain": [
       "<Figure size 640x480 with 1 Axes>"
      ]
     },
     "metadata": {},
     "output_type": "display_data"
    }
   ],
   "source": [
    "sns.histplot(np.log(log_normal_distributed_data),kde=True)"
   ]
  },
  {
   "cell_type": "code",
   "execution_count": 84,
   "metadata": {},
   "outputs": [],
   "source": [
    "import pylab"
   ]
  },
  {
   "cell_type": "code",
   "execution_count": 85,
   "metadata": {},
   "outputs": [],
   "source": [
    "def plot_data(sample):\n",
    "    plt.figure(figsize=(10,6))\n",
    "    plt.subplot(1,2,1)\n",
    "    sns.histplot(sample,kde=True)\n",
    "    plt.subplot(1,2,2)\n",
    "    st.probplot(sample,dist='norm',plot=pylab)\n",
    "    plt.show()"
   ]
  },
  {
   "cell_type": "code",
   "execution_count": 86,
   "metadata": {},
   "outputs": [
    {
     "data": {
      "image/png": "[encoded data removed]",
      "text/plain": [
       "<Figure size 1000x600 with 2 Axes>"
      ]
     },
     "metadata": {},
     "output_type": "display_data"
    }
   ],
   "source": [
    "plot_data(np.log(log_normal_distributed_data))"
   ]
  },
  {
   "cell_type": "markdown",
   "metadata": {},
   "source": [
    "### Probability Distribution fn"
   ]
  },
  {
   "cell_type": "code",
   "execution_count": 87,
   "metadata": {},
   "outputs": [
    {
     "data": {
      "text/plain": [
       "<Axes: ylabel='Density'>"
      ]
     },
     "execution_count": 87,
     "metadata": {},
     "output_type": "execute_result"
    },
    {
     "data": {
      "image/png": "[encoded data removed]",
      "text/plain": [
       "<Figure size 640x480 with 1 Axes>"
      ]
     },
     "metadata": {},
     "output_type": "display_data"
    }
   ],
   "source": [
    "from numpy import random\n",
    "random.uniform(size=500)\n",
    "sns.distplot(random.uniform(size=500),hist=False)"
   ]
  },
  {
   "cell_type": "code",
   "execution_count": 88,
   "metadata": {},
   "outputs": [
    {
     "data": {
      "text/plain": [
       "<Axes: ylabel='Count'>"
      ]
     },
     "execution_count": 88,
     "metadata": {},
     "output_type": "execute_result"
    },
    {
     "data": {
      "image/png": "[encoded data removed]",
      "text/plain": [
       "<Figure size 640x480 with 1 Axes>"
      ]
     },
     "metadata": {},
     "output_type": "display_data"
    }
   ],
   "source": [
    "np.random.randint(1,8,1000)\n",
    "sns.histplot(np.random.randint(1,8,1000))"
   ]
  },
  {
   "cell_type": "code",
   "execution_count": null,
   "metadata": {},
   "outputs": [],
   "source": []
  },
  {
   "cell_type": "markdown",
   "metadata": {},
   "source": [
    "Z-test\n",
    "\n",
    "t-test\n",
    "\n",
    "Chi-square test"
   ]
  },
  {
   "cell_type": "code",
   "execution_count": 89,
   "metadata": {},
   "outputs": [],
   "source": [
    "##Z-test\n",
    "sample_mean=110\n",
    "pop_mean=100\n",
    "pop_std=15\n",
    "sample_size=50\n",
    "alpha=0.05"
   ]
  },
  {
   "cell_type": "code",
   "execution_count": 90,
   "metadata": {},
   "outputs": [],
   "source": [
    "z_score=(sample_mean-pop_mean)/(pop_std/np.sqrt(50))"
   ]
  },
  {
   "cell_type": "code",
   "execution_count": 91,
   "metadata": {},
   "outputs": [
    {
     "data": {
      "text/plain": [
       "4.714045207910317"
      ]
     },
     "execution_count": 91,
     "metadata": {},
     "output_type": "execute_result"
    }
   ],
   "source": [
    "z_score"
   ]
  },
  {
   "cell_type": "code",
   "execution_count": 92,
   "metadata": {},
   "outputs": [],
   "source": [
    "confidence_interval=1-alpha"
   ]
  },
  {
   "cell_type": "code",
   "execution_count": 93,
   "metadata": {},
   "outputs": [
    {
     "data": {
      "text/plain": [
       "0.95"
      ]
     },
     "execution_count": 93,
     "metadata": {},
     "output_type": "execute_result"
    }
   ],
   "source": [
    "confidence_interval"
   ]
  },
  {
   "cell_type": "code",
   "execution_count": 96,
   "metadata": {},
   "outputs": [],
   "source": [
    "z_critical=st.norm.ppf(confidence_interval)"
   ]
  },
  {
   "cell_type": "code",
   "execution_count": 98,
   "metadata": {},
   "outputs": [
    {
     "name": "stdout",
     "output_type": "stream",
     "text": [
      "reject null hypothesis\n"
     ]
    }
   ],
   "source": [
    "if z_score>z_critical:\n",
    "    print('reject null hypothesis')\n",
    "else:\n",
    "    print('do not reject nul')"
   ]
  },
  {
   "cell_type": "code",
   "execution_count": 100,
   "metadata": {},
   "outputs": [],
   "source": [
    "my_data=np.random.randn(500)"
   ]
  },
  {
   "cell_type": "code",
   "execution_count": 101,
   "metadata": {},
   "outputs": [
    {
     "data": {
      "text/plain": [
       "<Axes: ylabel='Density'>"
      ]
     },
     "execution_count": 101,
     "metadata": {},
     "output_type": "execute_result"
    },
    {
     "data": {
      "image/png": "[encoded data removed]",
      "text/plain": [
       "<Figure size 640x480 with 1 Axes>"
      ]
     },
     "metadata": {},
     "output_type": "display_data"
    }
   ],
   "source": [
    "sns.distplot(my_data)"
   ]
  },
  {
   "cell_type": "code",
   "execution_count": 102,
   "metadata": {},
   "outputs": [
    {
     "data": {
      "text/plain": [
       "NormaltestResult(statistic=0.43869280092948465, pvalue=0.8030434953281606)"
      ]
     },
     "execution_count": 102,
     "metadata": {},
     "output_type": "execute_result"
    }
   ],
   "source": [
    "st.normaltest(my_data)"
   ]
  },
  {
   "cell_type": "code",
   "execution_count": 103,
   "metadata": {},
   "outputs": [],
   "source": [
    "sample_mean=110\n",
    "pop_mean=100\n",
    "pop_std=15\n",
    "sample_size=50\n",
    "alpha=0.05"
   ]
  },
  {
   "cell_type": "code",
   "execution_count": 105,
   "metadata": {},
   "outputs": [],
   "source": [
    "data=pop_std*np.random.randn(50)+sample_mean"
   ]
  },
  {
   "cell_type": "code",
   "execution_count": 106,
   "metadata": {},
   "outputs": [
    {
     "data": {
      "text/plain": [
       "108.65467865229161"
      ]
     },
     "execution_count": 106,
     "metadata": {},
     "output_type": "execute_result"
    }
   ],
   "source": [
    "data.mean()"
   ]
  },
  {
   "cell_type": "code",
   "execution_count": 107,
   "metadata": {},
   "outputs": [
    {
     "data": {
      "text/plain": [
       "14.53154709228527"
      ]
     },
     "execution_count": 107,
     "metadata": {},
     "output_type": "execute_result"
    }
   ],
   "source": [
    "data.std()"
   ]
  },
  {
   "cell_type": "code",
   "execution_count": 108,
   "metadata": {},
   "outputs": [],
   "source": [
    "null_hypothesis=pop_mean\n",
    "from statsmodels.stats.weightstats import ztest"
   ]
  },
  {
   "cell_type": "code",
   "execution_count": 109,
   "metadata": {},
   "outputs": [
    {
     "data": {
      "text/plain": [
       "(4.169050286339047, 1.5293575236056665e-05)"
      ]
     },
     "execution_count": 109,
     "metadata": {},
     "output_type": "execute_result"
    }
   ],
   "source": [
    "ztest(data,value=null_hypothesis,alternative='larger')"
   ]
  },
  {
   "cell_type": "markdown",
   "metadata": {},
   "source": [
    "One sample t-test"
   ]
  },
  {
   "cell_type": "code",
   "execution_count": 111,
   "metadata": {},
   "outputs": [
    {
     "name": "stdout",
     "output_type": "stream",
     "text": [
      "T-Statistic: 4.242640687119285\n",
      "P-Value: 0.013235599563682695\n",
      "Reject the null hypothesis, the sample mean is significantly different from the null hypothesis mean.\n"
     ]
    }
   ],
   "source": [
    "# Sample data\n",
    "data = [11, 12, 13, 14, 15]\n",
    "\n",
    "# Null hypothesis mean\n",
    "null_mean = 10\n",
    "\n",
    "# Perform one-sample t-test\n",
    "t_statistic, p_value = st.ttest_1samp(data, null_mean)\n",
    "\n",
    "# Output the results\n",
    "print(\"T-Statistic:\", t_statistic)\n",
    "print(\"P-Value:\", p_value)\n",
    "\n",
    "# Determine significance\n",
    "alpha = 0.05\n",
    "if p_value < alpha:\n",
    "    print(\"Reject the null hypothesis, the sample mean is significantly different from the null hypothesis mean.\")\n",
    "else:\n",
    "    print(\"Fail to reject the null hypothesis, the sample mean is not significantly different from the null hypothesis mean.\")\n"
   ]
  },
  {
   "cell_type": "code",
   "execution_count": 112,
   "metadata": {},
   "outputs": [
    {
     "name": "stdout",
     "output_type": "stream",
     "text": [
      "T-Statistic: 2.324244005971964\n",
      "P-Value: 0.048596398310605415\n",
      "Reject the null hypothesis, there is a significant difference between the groups.\n"
     ]
    }
   ],
   "source": [
    "# Sample data\n",
    "group1 = [25, 30, 35, 40, 45]\n",
    "group2 = [20, 22, 25, 28, 32]\n",
    "\n",
    "# Perform two-sample t-test\n",
    "t_statistic, p_value = st.ttest_ind(group1, group2)\n",
    "\n",
    "# Output the results\n",
    "print(\"T-Statistic:\", t_statistic)\n",
    "print(\"P-Value:\", p_value)\n",
    "\n",
    "# Determine significance\n",
    "alpha = 0.05\n",
    "if p_value < alpha:\n",
    "    print(\"Reject the null hypothesis, there is a significant difference between the groups.\")\n",
    "else:\n",
    "    print(\"Fail to reject the null hypothesis, there is no significant difference between the groups.\")\n"
   ]
  },
  {
   "cell_type": "code",
   "execution_count": 113,
   "metadata": {},
   "outputs": [
    {
     "name": "stdout",
     "output_type": "stream",
     "text": [
      "T-Statistic: -4.0\n",
      "P-Value: 0.016130089900092532\n",
      "Reject the null hypothesis, there is a significant difference between the paired observations.\n"
     ]
    }
   ],
   "source": [
    "from scipy import stats\n",
    "\n",
    "# Sample data\n",
    "before = [10, 12, 14, 16, 18]\n",
    "after = [13, 14, 15, 17, 19]\n",
    "\n",
    "# Perform paired sample t-test\n",
    "t_statistic, p_value = stats.ttest_rel(before, after)\n",
    "\n",
    "# Output the results\n",
    "print(\"T-Statistic:\", t_statistic)\n",
    "print(\"P-Value:\", p_value)\n",
    "\n",
    "# Determine significance\n",
    "alpha = 0.05\n",
    "if p_value < alpha:\n",
    "    print(\"Reject the null hypothesis, there is a significant difference between the paired observations.\")\n",
    "else:\n",
    "    print(\"Fail to reject the null hypothesis, there is no significant difference between the paired observations.\")\n"
   ]
  },
  {
   "cell_type": "code",
   "execution_count": 115,
   "metadata": {},
   "outputs": [],
   "source": [
    "dataset=sns.load_dataset('tips')"
   ]
  },
  {
   "cell_type": "code",
   "execution_count": 116,
   "metadata": {},
   "outputs": [
    {
     "name": "stdout",
     "output_type": "stream",
     "text": [
      "<class 'pandas.core.frame.DataFrame'>\n",
      "RangeIndex: 244 entries, 0 to 243\n",
      "Data columns (total 7 columns):\n",
      " #   Column      Non-Null Count  Dtype   \n",
      "---  ------      --------------  -----   \n",
      " 0   total_bill  244 non-null    float64 \n",
      " 1   tip         244 non-null    float64 \n",
      " 2   sex         244 non-null    category\n",
      " 3   smoker      244 non-null    category\n",
      " 4   day         244 non-null    category\n",
      " 5   time        244 non-null    category\n",
      " 6   size        244 non-null    int64   \n",
      "dtypes: category(4), float64(2), int64(1)\n",
      "memory usage: 7.4 KB\n"
     ]
    }
   ],
   "source": [
    "dataset.info()"
   ]
  },
  {
   "cell_type": "code",
   "execution_count": 117,
   "metadata": {},
   "outputs": [
    {
     "data": {
      "text/html": [
       "<div>\n",
       "<style scoped>\n",
       "    .dataframe tbody tr th:only-of-type {\n",
       "        vertical-align: middle;\n",
       "    }\n",
       "\n",
       "    .dataframe tbody tr th {\n",
       "        vertical-align: top;\n",
       "    }\n",
       "\n",
       "    .dataframe thead th {\n",
       "        text-align: right;\n",
       "    }\n",
       "</style>\n",
       "<table border=\"1\" class=\"dataframe\">\n",
       "  <thead>\n",
       "    <tr style=\"text-align: right;\">\n",
       "      <th></th>\n",
       "      <th>sex</th>\n",
       "      <th>smoker</th>\n",
       "    </tr>\n",
       "  </thead>\n",
       "  <tbody>\n",
       "    <tr>\n",
       "      <th>0</th>\n",
       "      <td>Female</td>\n",
       "      <td>No</td>\n",
       "    </tr>\n",
       "    <tr>\n",
       "      <th>1</th>\n",
       "      <td>Male</td>\n",
       "      <td>No</td>\n",
       "    </tr>\n",
       "    <tr>\n",
       "      <th>2</th>\n",
       "      <td>Male</td>\n",
       "      <td>No</td>\n",
       "    </tr>\n",
       "    <tr>\n",
       "      <th>3</th>\n",
       "      <td>Male</td>\n",
       "      <td>No</td>\n",
       "    </tr>\n",
       "    <tr>\n",
       "      <th>4</th>\n",
       "      <td>Female</td>\n",
       "      <td>No</td>\n",
       "    </tr>\n",
       "    <tr>\n",
       "      <th>...</th>\n",
       "      <td>...</td>\n",
       "      <td>...</td>\n",
       "    </tr>\n",
       "    <tr>\n",
       "      <th>239</th>\n",
       "      <td>Male</td>\n",
       "      <td>No</td>\n",
       "    </tr>\n",
       "    <tr>\n",
       "      <th>240</th>\n",
       "      <td>Female</td>\n",
       "      <td>Yes</td>\n",
       "    </tr>\n",
       "    <tr>\n",
       "      <th>241</th>\n",
       "      <td>Male</td>\n",
       "      <td>Yes</td>\n",
       "    </tr>\n",
       "    <tr>\n",
       "      <th>242</th>\n",
       "      <td>Male</td>\n",
       "      <td>No</td>\n",
       "    </tr>\n",
       "    <tr>\n",
       "      <th>243</th>\n",
       "      <td>Female</td>\n",
       "      <td>No</td>\n",
       "    </tr>\n",
       "  </tbody>\n",
       "</table>\n",
       "<p>244 rows × 2 columns</p>\n",
       "</div>"
      ],
      "text/plain": [
       "        sex smoker\n",
       "0    Female     No\n",
       "1      Male     No\n",
       "2      Male     No\n",
       "3      Male     No\n",
       "4    Female     No\n",
       "..      ...    ...\n",
       "239    Male     No\n",
       "240  Female    Yes\n",
       "241    Male    Yes\n",
       "242    Male     No\n",
       "243  Female     No\n",
       "\n",
       "[244 rows x 2 columns]"
      ]
     },
     "execution_count": 117,
     "metadata": {},
     "output_type": "execute_result"
    }
   ],
   "source": [
    "dataset[['sex','smoker']]"
   ]
  },
  {
   "cell_type": "code",
   "execution_count": 119,
   "metadata": {},
   "outputs": [],
   "source": [
    "dataset_table=pd.crosstab(dataset['sex'],dataset['smoker'])"
   ]
  },
  {
   "cell_type": "code",
   "execution_count": 121,
   "metadata": {},
   "outputs": [],
   "source": [
    "dataset_array=dataset_table.values"
   ]
  },
  {
   "cell_type": "code",
   "execution_count": 123,
   "metadata": {},
   "outputs": [],
   "source": [
    "import scipy.stats as stats \n",
    "statistic,pvalue,dof,expected_freq=stats.chi2_contingency(dataset_array)"
   ]
  },
  {
   "cell_type": "code",
   "execution_count": 128,
   "metadata": {},
   "outputs": [
    {
     "data": {
      "text/plain": [
       "smoker\n",
       "Yes    60\n",
       "No     97\n",
       "Name: Male, dtype: int64"
      ]
     },
     "execution_count": 128,
     "metadata": {},
     "output_type": "execute_result"
    }
   ],
   "source": [
    "dataset_table.iloc[0,0:2]"
   ]
  },
  {
   "cell_type": "code",
   "execution_count": null,
   "metadata": {},
   "outputs": [],
   "source": []
  }
 ],
 "metadata": {
  "kernelspec": {
   "display_name": "Python 3",
   "language": "python",
   "name": "python3"
  },
  "language_info": {
   "codemirror_mode": {
    "name": "ipython",
    "version": 3
   },
   "file_extension": ".py",
   "mimetype": "text/x-python",
   "name": "python",
   "nbconvert_exporter": "python",
   "pygments_lexer": "ipython3",
   "version": "3.9.0"
  }
 },
 "nbformat": 4,
 "nbformat_minor": 2
}
